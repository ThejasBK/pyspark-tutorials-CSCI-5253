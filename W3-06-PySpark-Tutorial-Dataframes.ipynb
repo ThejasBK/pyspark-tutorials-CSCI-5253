{
 "cells": [
  {
   "cell_type": "markdown",
   "metadata": {},
   "source": [
    "# PySpark Tutorial - Dataframes\n",
    "<div>\n",
    " <h2> CSCI 4283 / 5253 \n",
    "  <IMG SRC=\"https://www.colorado.edu/cs/profiles/express/themes/cuspirit/logo.png\" WIDTH=50 ALIGN=\"right\"/> </h2>\n",
    "</div>"
   ]
  },
  {
   "cell_type": "markdown",
   "metadata": {},
   "source": [
    "Up to now, we've see the RDD interface to PySpark. The RDD is a building block for more capable data structures such as the **dataframe** and **database**. These data structures are part of the [PySpark SQL library](https://spark.apache.org/docs/latest/api/python/pyspark.sql.html) which, as the name implies, is influenced by standard SQL practices and queries.\n",
    "\n",
    "The PySpark library has the **dataframe API**, but it does not support the **database API** -- that's only accessible via the Scala and Java libraries and through SQL queries.\n",
    "\n",
    "The **database** is effectively an SQL relation -- i.e. rows and columns with a specific schema. The **dataframe** takes a little futher and constructs a labeled dataframe similar to the [Python Pandas](https://pandas.pydata.org/) interface or the [R dplyr](https://cran.r-project.org/web/packages/dplyr/vignettes/dplyr.html) interface for R."
   ]
  },
  {
   "cell_type": "code",
   "execution_count": 1,
   "metadata": {
    "collapsed": false
   },
   "outputs": [],
   "source": [
    "from pyspark import SparkContext, SparkConf\n",
    "from pyspark.sql import SparkSession\n",
    "import numpy as np\n",
    "import pandas as pd\n",
    "import operator"
   ]
  },
  {
   "cell_type": "markdown",
   "metadata": {},
   "source": [
    "We're going to use an airline information database as the example. You can download extended versions of the database [at this Dept. of Transportation website](https://www.transtats.bts.gov/DL_SelectFields.asp), but the data we're using is distributed with the course notes."
   ]
  },
  {
   "cell_type": "markdown",
   "metadata": {},
   "source": [
    "As with the RDD interface, we need a \"context\" to a remote machine. The [Spark SQL tutorial](https://spark.apache.org/docs/latest/sql-getting-started.html) has some information on this, but for complete information you need to look at the [Spark API documentation.](https://spark.apache.org/docs/latest/api/python/)\n",
    "\n",
    "In this example, we're creating a location session (i.e. CPU's on JupyterHub)."
   ]
  },
  {
   "cell_type": "code",
   "execution_count": 2,
   "metadata": {},
   "outputs": [],
   "source": [
    "spark = SparkSession \\\n",
    "    .builder \\\n",
    "    .appName(\"Python Spark SQL basic example\") \\\n",
    "    .master(\"local[*]\")\\\n",
    "    .getOrCreate()"
   ]
  },
  {
   "cell_type": "markdown",
   "metadata": {},
   "source": [
    "There are many ways to load data, including HDFS, a format called [Parquet](http://parquet.apache.org/), CSV files and so on. We'll use a compressed CSV file of the airline data."
   ]
  },
  {
   "cell_type": "code",
   "execution_count": 3,
   "metadata": {},
   "outputs": [],
   "source": [
    "flights = spark.read.load('airline-ontime-reporting.csv.gz',\n",
    "            format=\"csv\", sep=\",\", header=True,\n",
    "            compression=\"gzip\",\n",
    "            inferSchema=\"true\")"
   ]
  },
  {
   "cell_type": "markdown",
   "metadata": {},
   "source": [
    "The dataframe has a **schema** or type for each entry. All entries must have the same type or we'll see operations fail."
   ]
  },
  {
   "cell_type": "code",
   "execution_count": 4,
   "metadata": {},
   "outputs": [
    {
     "name": "stdout",
     "output_type": "stream",
     "text": [
      "root\n",
      " |-- YEAR: integer (nullable = true)\n",
      " |-- MONTH: integer (nullable = true)\n",
      " |-- DAY_OF_MONTH: integer (nullable = true)\n",
      " |-- DAY_OF_WEEK: integer (nullable = true)\n",
      " |-- OP_UNIQUE_CARRIER: string (nullable = true)\n",
      " |-- ORIGIN_AIRPORT_ID: integer (nullable = true)\n",
      " |-- ORIGIN_AIRPORT_SEQ_ID: integer (nullable = true)\n",
      " |-- ORIGIN_CITY_MARKET_ID: integer (nullable = true)\n",
      " |-- ORIGIN: string (nullable = true)\n",
      " |-- ORIGIN_CITY_NAME: string (nullable = true)\n",
      " |-- DEST_AIRPORT_ID: integer (nullable = true)\n",
      " |-- DEST_AIRPORT_SEQ_ID: integer (nullable = true)\n",
      " |-- DEST_CITY_MARKET_ID: integer (nullable = true)\n",
      " |-- DEST: string (nullable = true)\n",
      " |-- DEST_CITY_NAME: string (nullable = true)\n",
      " |-- CRS_DEP_TIME: integer (nullable = true)\n",
      " |-- DEP_DELAY: double (nullable = true)\n",
      " |-- ARR_TIME: integer (nullable = true)\n",
      " |-- ARR_DELAY: double (nullable = true)\n",
      " |-- CANCELLED: double (nullable = true)\n",
      " |-- CARRIER_DELAY: double (nullable = true)\n",
      " |-- WEATHER_DELAY: double (nullable = true)\n",
      " |-- LATE_AIRCRAFT_DELAY: double (nullable = true)\n",
      " |-- _c23: string (nullable = true)\n",
      "\n"
     ]
    }
   ],
   "source": [
    "flights.printSchema()"
   ]
  },
  {
   "cell_type": "code",
   "execution_count": 6,
   "metadata": {},
   "outputs": [
    {
     "data": {
      "text/plain": [
       "['YEAR',\n",
       " 'MONTH',\n",
       " 'DAY_OF_MONTH',\n",
       " 'DAY_OF_WEEK',\n",
       " 'OP_UNIQUE_CARRIER',\n",
       " 'ORIGIN_AIRPORT_ID',\n",
       " 'ORIGIN_AIRPORT_SEQ_ID',\n",
       " 'ORIGIN_CITY_MARKET_ID',\n",
       " 'ORIGIN',\n",
       " 'ORIGIN_CITY_NAME',\n",
       " 'DEST_AIRPORT_ID',\n",
       " 'DEST_AIRPORT_SEQ_ID',\n",
       " 'DEST_CITY_MARKET_ID',\n",
       " 'DEST',\n",
       " 'DEST_CITY_NAME',\n",
       " 'CRS_DEP_TIME',\n",
       " 'DEP_DELAY',\n",
       " 'ARR_TIME',\n",
       " 'ARR_DELAY',\n",
       " 'CANCELLED',\n",
       " 'CARRIER_DELAY',\n",
       " 'WEATHER_DELAY',\n",
       " 'LATE_AIRCRAFT_DELAY',\n",
       " '_c23']"
      ]
     },
     "execution_count": 6,
     "metadata": {},
     "output_type": "execute_result"
    }
   ],
   "source": [
    "flights.columns"
   ]
  },
  {
   "cell_type": "code",
   "execution_count": 7,
   "metadata": {},
   "outputs": [
    {
     "name": "stdout",
     "output_type": "stream",
     "text": [
      "There are 24 columns and  583985 rows\n"
     ]
    }
   ],
   "source": [
    "print(\"There are\", len(flights.columns), \"columns and \", flights.count(), \"rows\")"
   ]
  },
  {
   "cell_type": "code",
   "execution_count": 8,
   "metadata": {},
   "outputs": [
    {
     "data": {
      "text/plain": [
       "[('YEAR', 'int'),\n",
       " ('MONTH', 'int'),\n",
       " ('DAY_OF_MONTH', 'int'),\n",
       " ('DAY_OF_WEEK', 'int'),\n",
       " ('OP_UNIQUE_CARRIER', 'string'),\n",
       " ('ORIGIN_AIRPORT_ID', 'int'),\n",
       " ('ORIGIN_AIRPORT_SEQ_ID', 'int'),\n",
       " ('ORIGIN_CITY_MARKET_ID', 'int'),\n",
       " ('ORIGIN', 'string'),\n",
       " ('ORIGIN_CITY_NAME', 'string'),\n",
       " ('DEST_AIRPORT_ID', 'int'),\n",
       " ('DEST_AIRPORT_SEQ_ID', 'int'),\n",
       " ('DEST_CITY_MARKET_ID', 'int'),\n",
       " ('DEST', 'string'),\n",
       " ('DEST_CITY_NAME', 'string'),\n",
       " ('CRS_DEP_TIME', 'int'),\n",
       " ('DEP_DELAY', 'double'),\n",
       " ('ARR_TIME', 'int'),\n",
       " ('ARR_DELAY', 'double'),\n",
       " ('CANCELLED', 'double'),\n",
       " ('CARRIER_DELAY', 'double'),\n",
       " ('WEATHER_DELAY', 'double'),\n",
       " ('LATE_AIRCRAFT_DELAY', 'double'),\n",
       " ('_c23', 'string')]"
      ]
     },
     "execution_count": 8,
     "metadata": {},
     "output_type": "execute_result"
    }
   ],
   "source": [
    "flights.dtypes"
   ]
  },
  {
   "cell_type": "markdown",
   "metadata": {},
   "source": [
    "The schema is inferred, but it can also be defined explicitly.\n",
    "\n",
    "Note that one column is labeled `_c23`, which is showing up as \"null\". Perhaps this is bad data import?\n",
    "\n",
    "Lets look at some of the values."
   ]
  },
  {
   "cell_type": "code",
   "execution_count": 9,
   "metadata": {},
   "outputs": [
    {
     "name": "stdout",
     "output_type": "stream",
     "text": [
      "+----+-----+------------+-----------+-----------------+-----------------+---------------------+---------------------+------+----------------+---------------+-------------------+-------------------+----+--------------+------------+---------+--------+---------+---------+-------------+-------------+-------------------+----+\n",
      "|YEAR|MONTH|DAY_OF_MONTH|DAY_OF_WEEK|OP_UNIQUE_CARRIER|ORIGIN_AIRPORT_ID|ORIGIN_AIRPORT_SEQ_ID|ORIGIN_CITY_MARKET_ID|ORIGIN|ORIGIN_CITY_NAME|DEST_AIRPORT_ID|DEST_AIRPORT_SEQ_ID|DEST_CITY_MARKET_ID|DEST|DEST_CITY_NAME|CRS_DEP_TIME|DEP_DELAY|ARR_TIME|ARR_DELAY|CANCELLED|CARRIER_DELAY|WEATHER_DELAY|LATE_AIRCRAFT_DELAY|_c23|\n",
      "+----+-----+------------+-----------+-----------------+-----------------+---------------------+---------------------+------+----------------+---------------+-------------------+-------------------+----+--------------+------------+---------+--------+---------+---------+-------------+-------------+-------------------+----+\n",
      "|2019|1    |19          |6          |9E               |13487            |1348702              |31650                |MSP   |Minneapolis, MN |11193          |1119302            |33105              |CVG |Cincinnati, OH|1556        |-10.0    |1832    |-25.0    |0.0      |null         |null         |null               |null|\n",
      "|2019|1    |20          |7          |9E               |13487            |1348702              |31650                |MSP   |Minneapolis, MN |11193          |1119302            |33105              |CVG |Cincinnati, OH|1556        |-4.0     |1825    |-37.0    |0.0      |null         |null         |null               |null|\n",
      "|2019|1    |21          |1          |9E               |13487            |1348702              |31650                |MSP   |Minneapolis, MN |11193          |1119302            |33105              |CVG |Cincinnati, OH|1556        |-9.0     |1845    |-17.0    |0.0      |null         |null         |null               |null|\n",
      "|2019|1    |22          |2          |9E               |13487            |1348702              |31650                |MSP   |Minneapolis, MN |11193          |1119302            |33105              |CVG |Cincinnati, OH|1556        |-4.0     |1839    |-23.0    |0.0      |null         |null         |null               |null|\n",
      "|2019|1    |23          |3          |9E               |13487            |1348702              |31650                |MSP   |Minneapolis, MN |11193          |1119302            |33105              |CVG |Cincinnati, OH|1556        |-6.0     |1850    |-12.0    |0.0      |null         |null         |null               |null|\n",
      "+----+-----+------------+-----------+-----------------+-----------------+---------------------+---------------------+------+----------------+---------------+-------------------+-------------------+----+--------------+------------+---------+--------+---------+---------+-------------+-------------+-------------------+----+\n",
      "only showing top 5 rows\n",
      "\n"
     ]
    }
   ],
   "source": [
    "flights.show(5, truncate=False)"
   ]
  },
  {
   "cell_type": "markdown",
   "metadata": {},
   "source": [
    "Let's pull out the values in one column -- the `select` method can be used to produce a new dataframe with just that column as an entry."
   ]
  },
  {
   "cell_type": "code",
   "execution_count": 11,
   "metadata": {},
   "outputs": [
    {
     "name": "stdout",
     "output_type": "stream",
     "text": [
      "+----+\n",
      "|_c23|\n",
      "+----+\n",
      "|null|\n",
      "|null|\n",
      "|null|\n",
      "|null|\n",
      "|null|\n",
      "+----+\n",
      "only showing top 5 rows\n",
      "\n"
     ]
    }
   ],
   "source": [
    "flights.select('_c23').show(5)"
   ]
  },
  {
   "cell_type": "markdown",
   "metadata": {},
   "source": [
    "And we can slice out multiple columns, similar to Pandas. Again, this produces a new dataframe."
   ]
  },
  {
   "cell_type": "code",
   "execution_count": 12,
   "metadata": {},
   "outputs": [
    {
     "name": "stdout",
     "output_type": "stream",
     "text": [
      "+----+----+\n",
      "|year|_c23|\n",
      "+----+----+\n",
      "|2019|null|\n",
      "|2019|null|\n",
      "|2019|null|\n",
      "|2019|null|\n",
      "|2019|null|\n",
      "+----+----+\n",
      "only showing top 5 rows\n",
      "\n"
     ]
    }
   ],
   "source": [
    "flights.select(['year', '_c23']).show(5)"
   ]
  },
  {
   "cell_type": "markdown",
   "metadata": {},
   "source": [
    "Alternatively, we can produce a\n",
    "[Column object which has its own methods](https://spark.apache.org/docs/latest/api/python/pyspark.sql.html?highlight=column#pyspark.sql.Column). These are typically used in **column expressions** that produce indicies that can be used when selecting or filtering data.\n",
    "\n",
    "For example, let's find all the rows where the mystery `_c23` column is not null."
   ]
  },
  {
   "cell_type": "code",
   "execution_count": 13,
   "metadata": {},
   "outputs": [
    {
     "name": "stdout",
     "output_type": "stream",
     "text": [
      "+----+-----+------------+-----------+-----------------+-----------------+---------------------+---------------------+------+----------------+---------------+-------------------+-------------------+----+--------------+------------+---------+--------+---------+---------+-------------+-------------+-------------------+----+\n",
      "|YEAR|MONTH|DAY_OF_MONTH|DAY_OF_WEEK|OP_UNIQUE_CARRIER|ORIGIN_AIRPORT_ID|ORIGIN_AIRPORT_SEQ_ID|ORIGIN_CITY_MARKET_ID|ORIGIN|ORIGIN_CITY_NAME|DEST_AIRPORT_ID|DEST_AIRPORT_SEQ_ID|DEST_CITY_MARKET_ID|DEST|DEST_CITY_NAME|CRS_DEP_TIME|DEP_DELAY|ARR_TIME|ARR_DELAY|CANCELLED|CARRIER_DELAY|WEATHER_DELAY|LATE_AIRCRAFT_DELAY|_c23|\n",
      "+----+-----+------------+-----------+-----------------+-----------------+---------------------+---------------------+------+----------------+---------------+-------------------+-------------------+----+--------------+------------+---------+--------+---------+---------+-------------+-------------+-------------------+----+\n",
      "+----+-----+------------+-----------+-----------------+-----------------+---------------------+---------------------+------+----------------+---------------+-------------------+-------------------+----+--------------+------------+---------+--------+---------+---------+-------------+-------------+-------------------+----+\n",
      "\n"
     ]
    }
   ],
   "source": [
    "flights.filter( flights._c23.isNotNull()).show(5)"
   ]
  },
  {
   "cell_type": "markdown",
   "metadata": {},
   "source": [
    "Hmm.... This liooks like all the values are null. We could confirm this by selecting the column and looking at the distinct elements."
   ]
  },
  {
   "cell_type": "code",
   "execution_count": 14,
   "metadata": {},
   "outputs": [
    {
     "name": "stdout",
     "output_type": "stream",
     "text": [
      "+----+\n",
      "|_c23|\n",
      "+----+\n",
      "|null|\n",
      "+----+\n",
      "\n"
     ]
    }
   ],
   "source": [
    "flights.select('_c23').distinct().show()"
   ]
  },
  {
   "cell_type": "markdown",
   "metadata": {},
   "source": [
    "This this column is null, lets just drop it."
   ]
  },
  {
   "cell_type": "code",
   "execution_count": 15,
   "metadata": {},
   "outputs": [],
   "source": [
    "newFlights = flights.drop('_c23')"
   ]
  },
  {
   "cell_type": "code",
   "execution_count": 16,
   "metadata": {},
   "outputs": [
    {
     "name": "stdout",
     "output_type": "stream",
     "text": [
      "+----+-----+------------+-----------+-----------------+-----------------+---------------------+---------------------+------+----------------+---------------+-------------------+-------------------+----+--------------+------------+---------+--------+---------+---------+-------------+-------------+-------------------+\n",
      "|YEAR|MONTH|DAY_OF_MONTH|DAY_OF_WEEK|OP_UNIQUE_CARRIER|ORIGIN_AIRPORT_ID|ORIGIN_AIRPORT_SEQ_ID|ORIGIN_CITY_MARKET_ID|ORIGIN|ORIGIN_CITY_NAME|DEST_AIRPORT_ID|DEST_AIRPORT_SEQ_ID|DEST_CITY_MARKET_ID|DEST|DEST_CITY_NAME|CRS_DEP_TIME|DEP_DELAY|ARR_TIME|ARR_DELAY|CANCELLED|CARRIER_DELAY|WEATHER_DELAY|LATE_AIRCRAFT_DELAY|\n",
      "+----+-----+------------+-----------+-----------------+-----------------+---------------------+---------------------+------+----------------+---------------+-------------------+-------------------+----+--------------+------------+---------+--------+---------+---------+-------------+-------------+-------------------+\n",
      "|2019|    1|          19|          6|               9E|            13487|              1348702|                31650|   MSP| Minneapolis, MN|          11193|            1119302|              33105| CVG|Cincinnati, OH|        1556|    -10.0|    1832|    -25.0|      0.0|         null|         null|               null|\n",
      "|2019|    1|          20|          7|               9E|            13487|              1348702|                31650|   MSP| Minneapolis, MN|          11193|            1119302|              33105| CVG|Cincinnati, OH|        1556|     -4.0|    1825|    -37.0|      0.0|         null|         null|               null|\n",
      "|2019|    1|          21|          1|               9E|            13487|              1348702|                31650|   MSP| Minneapolis, MN|          11193|            1119302|              33105| CVG|Cincinnati, OH|        1556|     -9.0|    1845|    -17.0|      0.0|         null|         null|               null|\n",
      "|2019|    1|          22|          2|               9E|            13487|              1348702|                31650|   MSP| Minneapolis, MN|          11193|            1119302|              33105| CVG|Cincinnati, OH|        1556|     -4.0|    1839|    -23.0|      0.0|         null|         null|               null|\n",
      "|2019|    1|          23|          3|               9E|            13487|              1348702|                31650|   MSP| Minneapolis, MN|          11193|            1119302|              33105| CVG|Cincinnati, OH|        1556|     -6.0|    1850|    -12.0|      0.0|         null|         null|               null|\n",
      "+----+-----+------------+-----------+-----------------+-----------------+---------------------+---------------------+------+----------------+---------------+-------------------+-------------------+----+--------------+------------+---------+--------+---------+---------+-------------+-------------+-------------------+\n",
      "only showing top 5 rows\n",
      "\n"
     ]
    }
   ],
   "source": [
    "newFlights.show(5)"
   ]
  },
  {
   "cell_type": "markdown",
   "metadata": {},
   "source": [
    "We often work with multiple columns of data in a dataframe. Some methods just use column names (corr, cov, crosstab, describe) and others can use column references, such as `newAir.ORIGIN`."
   ]
  },
  {
   "cell_type": "markdown",
   "metadata": {},
   "source": [
    "There are also a number of methods that work on columns or column expressions -- we've been using `select` already.\n",
    "\n",
    "* `cube(*cols)`: column names (string) or column expressions or **both**.\n",
    "* `drop(*cols)`: ***a list of column names OR a single column expression.***\n",
    "* `groupBy(*cols)`: column name (string) or column expression or **both**.\n",
    "* `rollup(*cols)`: column name (string) or column expression or **both**.\n",
    "* `select(*cols)`: column name (string) or column expression or **both**.\n",
    "* `sort(*cols, **kwargs)`: column name (string) or column expression or **both**.\n",
    "* `sortWithinPartitions(*cols, **kwargs)`: column name (string) or column expression or **both**.\n",
    "* `orderBy(*cols, **kwargs)`: column name (string) or column expression or **both**.\n",
    "* `sampleBy(col, fractions, sed=None)`: a column name.\n",
    "* `toDF(*cols)`: **a list of column names (string).**\n",
    "* `withColumn(colName, col)`: `colName` refers to column name; `col` refers to a column expression.\n",
    "* `withColumnRenamed(existing, new)`: takes column names as arguments.\n",
    "* `filter(condition)`: ***condition** refers to a column expression that returns `types.BooleanType` of values. "
   ]
  },
  {
   "cell_type": "code",
   "execution_count": 17,
   "metadata": {},
   "outputs": [
    {
     "data": {
      "text/plain": [
       "[Row(ORIGIN='BGM', count=61),\n",
       " Row(ORIGIN='PSE', count=65),\n",
       " Row(ORIGIN='INL', count=53),\n",
       " Row(ORIGIN='MSY', count=4597),\n",
       " Row(ORIGIN='PPG', count=11),\n",
       " Row(ORIGIN='GEG', count=934),\n",
       " Row(ORIGIN='DRT', count=61),\n",
       " Row(ORIGIN='SNA', count=3416),\n",
       " Row(ORIGIN='BUR', count=2377),\n",
       " Row(ORIGIN='GRB', count=357),\n",
       " Row(ORIGIN='GTF', count=117),\n",
       " Row(ORIGIN='IDA', count=134),\n",
       " Row(ORIGIN='GRR', count=1506),\n",
       " Row(ORIGIN='LWB', count=52),\n",
       " Row(ORIGIN='PVU', count=46),\n",
       " Row(ORIGIN='JLN', count=62),\n",
       " Row(ORIGIN='EUG', count=313),\n",
       " Row(ORIGIN='PSG', count=62),\n",
       " Row(ORIGIN='GSO', count=1233),\n",
       " Row(ORIGIN='PVD', count=1355),\n",
       " Row(ORIGIN='MYR', count=571),\n",
       " Row(ORIGIN='OAK', count=4186),\n",
       " Row(ORIGIN='EAR', count=53),\n",
       " Row(ORIGIN='MSN', count=1027),\n",
       " Row(ORIGIN='FSM', count=167),\n",
       " Row(ORIGIN='FAR', count=431),\n",
       " Row(ORIGIN='MQT', count=93),\n",
       " Row(ORIGIN='COD', count=60),\n",
       " Row(ORIGIN='BTM', count=58),\n",
       " Row(ORIGIN='SCC', count=85),\n",
       " Row(ORIGIN='ESC', count=54),\n",
       " Row(ORIGIN='DCA', count=11839),\n",
       " Row(ORIGIN='RFD', count=48),\n",
       " Row(ORIGIN='GTR', count=83),\n",
       " Row(ORIGIN='CID', count=722),\n",
       " Row(ORIGIN='SWO', count=62),\n",
       " Row(ORIGIN='MLU', count=233),\n",
       " Row(ORIGIN='LWS', count=64),\n",
       " Row(ORIGIN='PIB', count=62),\n",
       " Row(ORIGIN='WRG', count=62),\n",
       " Row(ORIGIN='CIU', count=58),\n",
       " Row(ORIGIN='HLN', count=110),\n",
       " Row(ORIGIN='IAG', count=48),\n",
       " Row(ORIGIN='LEX', count=778),\n",
       " Row(ORIGIN='RDM', count=270),\n",
       " Row(ORIGIN='JMS', count=84),\n",
       " Row(ORIGIN='ORF', count=1928),\n",
       " Row(ORIGIN='SCE', count=89),\n",
       " Row(ORIGIN='EVV', count=347),\n",
       " Row(ORIGIN='KTN', count=177),\n",
       " Row(ORIGIN='CRW', count=338),\n",
       " Row(ORIGIN='CWA', count=192),\n",
       " Row(ORIGIN='OGS', count=11),\n",
       " Row(ORIGIN='SAV', count=1164),\n",
       " Row(ORIGIN='GCK', count=62),\n",
       " Row(ORIGIN='TRI', count=176),\n",
       " Row(ORIGIN='CDV', count=60),\n",
       " Row(ORIGIN='CMH', count=3697),\n",
       " Row(ORIGIN='SPN', count=41),\n",
       " Row(ORIGIN='LBF', count=53),\n",
       " Row(ORIGIN='CAK', count=544),\n",
       " Row(ORIGIN='TYR', count=116),\n",
       " Row(ORIGIN='ADK', count=9),\n",
       " Row(ORIGIN='CHO', count=469),\n",
       " Row(ORIGIN='MOB', count=438),\n",
       " Row(ORIGIN='PNS', count=906),\n",
       " Row(ORIGIN='LIH', count=1136),\n",
       " Row(ORIGIN='IAH', count=14598),\n",
       " Row(ORIGIN='HNL', count=3933),\n",
       " Row(ORIGIN='SLN', count=80),\n",
       " Row(ORIGIN='SHV', count=516),\n",
       " Row(ORIGIN='ERI', count=76),\n",
       " Row(ORIGIN='CVG', count=3711),\n",
       " Row(ORIGIN='SJC', count=4925),\n",
       " Row(ORIGIN='TOL', count=172),\n",
       " Row(ORIGIN='BUF', count=1911),\n",
       " Row(ORIGIN='LGA', count=13872),\n",
       " Row(ORIGIN='TLH', count=491),\n",
       " Row(ORIGIN='CDC', count=54),\n",
       " Row(ORIGIN='ACT', count=116),\n",
       " Row(ORIGIN='HPN', count=910),\n",
       " Row(ORIGIN='RDD', count=96),\n",
       " Row(ORIGIN='AUS', count=4947),\n",
       " Row(ORIGIN='MLI', count=426),\n",
       " Row(ORIGIN='GCC', count=58),\n",
       " Row(ORIGIN='SJU', count=2308),\n",
       " Row(ORIGIN='ATW', count=390),\n",
       " Row(ORIGIN='DHN', count=115),\n",
       " Row(ORIGIN='AVL', count=619),\n",
       " Row(ORIGIN='GJT', count=287),\n",
       " Row(ORIGIN='LGB', count=1210),\n",
       " Row(ORIGIN='LYH', count=48),\n",
       " Row(ORIGIN='GFK', count=168),\n",
       " Row(ORIGIN='BFL', count=179),\n",
       " Row(ORIGIN='CNY', count=52),\n",
       " Row(ORIGIN='SRQ', count=677),\n",
       " Row(ORIGIN='RNO', count=1545),\n",
       " Row(ORIGIN='EYW', count=539),\n",
       " Row(ORIGIN='SBN', count=569),\n",
       " Row(ORIGIN='BJI', count=62),\n",
       " Row(ORIGIN='TTN', count=204),\n",
       " Row(ORIGIN='JAC', count=416),\n",
       " Row(ORIGIN='RST', count=308),\n",
       " Row(ORIGIN='CHS', count=1703),\n",
       " Row(ORIGIN='HGR', count=10),\n",
       " Row(ORIGIN='HRL', count=330),\n",
       " Row(ORIGIN='TUL', count=1408),\n",
       " Row(ORIGIN='RSW', count=3823),\n",
       " Row(ORIGIN='AMA', count=423),\n",
       " Row(ORIGIN='ISP', count=474),\n",
       " Row(ORIGIN='BOS', count=11430),\n",
       " Row(ORIGIN='MAF', count=721),\n",
       " Row(ORIGIN='MLB', count=211),\n",
       " Row(ORIGIN='EWR', count=10522),\n",
       " Row(ORIGIN='BIS', count=289),\n",
       " Row(ORIGIN='LAS', count=13209),\n",
       " Row(ORIGIN='OGD', count=8),\n",
       " Row(ORIGIN='JAN', count=658),\n",
       " Row(ORIGIN='ITO', count=479),\n",
       " Row(ORIGIN='FAI', count=353),\n",
       " Row(ORIGIN='IMT', count=58),\n",
       " Row(ORIGIN='UIN', count=58),\n",
       " Row(ORIGIN='XNA', count=1048),\n",
       " Row(ORIGIN='HHH', count=88),\n",
       " Row(ORIGIN='DLH', count=180),\n",
       " Row(ORIGIN='DEN', count=18507),\n",
       " Row(ORIGIN='EWN', count=181),\n",
       " Row(ORIGIN='RHI', count=62),\n",
       " Row(ORIGIN='SGU', count=301),\n",
       " Row(ORIGIN='ALB', count=964),\n",
       " Row(ORIGIN='CPR', count=70),\n",
       " Row(ORIGIN='LNK', count=123),\n",
       " Row(ORIGIN='GRI', count=99),\n",
       " Row(ORIGIN='OME', count=62),\n",
       " Row(ORIGIN='IAD', count=5237),\n",
       " Row(ORIGIN='BOI', count=1576),\n",
       " Row(ORIGIN='PSP', count=1321),\n",
       " Row(ORIGIN='SBA', count=551),\n",
       " Row(ORIGIN='MEI', count=93),\n",
       " Row(ORIGIN='LAR', count=53),\n",
       " Row(ORIGIN='HOB', count=58),\n",
       " Row(ORIGIN='DRO', count=238),\n",
       " Row(ORIGIN='BRD', count=54),\n",
       " Row(ORIGIN='BRO', count=188),\n",
       " Row(ORIGIN='BMI', count=233),\n",
       " Row(ORIGIN='RKS', count=62),\n",
       " Row(ORIGIN='SEA', count=10230),\n",
       " Row(ORIGIN='CMI', count=204),\n",
       " Row(ORIGIN='LAN', count=255),\n",
       " Row(ORIGIN='VEL', count=53),\n",
       " Row(ORIGIN='LRD', count=193),\n",
       " Row(ORIGIN='PBG', count=112),\n",
       " Row(ORIGIN='PSM', count=33),\n",
       " Row(ORIGIN='VLD', count=87),\n",
       " Row(ORIGIN='HYS', count=107),\n",
       " Row(ORIGIN='MCI', count=4458),\n",
       " Row(ORIGIN='FLG', count=117),\n",
       " Row(ORIGIN='GRK', count=250),\n",
       " Row(ORIGIN='TVC', count=231),\n",
       " Row(ORIGIN='BNA', count=6208),\n",
       " Row(ORIGIN='CLT', count=19100),\n",
       " Row(ORIGIN='CLL', count=179),\n",
       " Row(ORIGIN='CGI', count=79),\n",
       " Row(ORIGIN='BLI', count=187),\n",
       " Row(ORIGIN='PSC', count=142),\n",
       " Row(ORIGIN='ORH', count=93),\n",
       " Row(ORIGIN='PBI', count=2462),\n",
       " Row(ORIGIN='ABQ', count=1731),\n",
       " Row(ORIGIN='PIE', count=548),\n",
       " Row(ORIGIN='SDF', count=1787),\n",
       " Row(ORIGIN='ART', count=62),\n",
       " Row(ORIGIN='LAW', count=105),\n",
       " Row(ORIGIN='SCK', count=52),\n",
       " Row(ORIGIN='ACV', count=129),\n",
       " Row(ORIGIN='BDL', count=2390),\n",
       " Row(ORIGIN='DAL', count=6216),\n",
       " Row(ORIGIN='MRY', count=365),\n",
       " Row(ORIGIN='ITH', count=70),\n",
       " Row(ORIGIN='DBQ', count=90),\n",
       " Row(ORIGIN='USA', count=73),\n",
       " Row(ORIGIN='CLE', count=3902),\n",
       " Row(ORIGIN='PDX', count=4767),\n",
       " Row(ORIGIN='MIA', count=7901),\n",
       " Row(ORIGIN='MFR', count=349),\n",
       " Row(ORIGIN='TWF', count=127),\n",
       " Row(ORIGIN='BWI', count=7772),\n",
       " Row(ORIGIN='TPA', count=6626),\n",
       " Row(ORIGIN='APN', count=53),\n",
       " Row(ORIGIN='CMX', count=62),\n",
       " Row(ORIGIN='PRC', count=62),\n",
       " Row(ORIGIN='OKC', count=1883),\n",
       " Row(ORIGIN='ROA', count=209),\n",
       " Row(ORIGIN='SMF', count=3983),\n",
       " Row(ORIGIN='SPI', count=129),\n",
       " Row(ORIGIN='OTH', count=31),\n",
       " Row(ORIGIN='BRW', count=62),\n",
       " Row(ORIGIN='SFB', count=697),\n",
       " Row(ORIGIN='ABI', count=170),\n",
       " Row(ORIGIN='BFF', count=53),\n",
       " Row(ORIGIN='ELM', count=34),\n",
       " Row(ORIGIN='MBS', count=191),\n",
       " Row(ORIGIN='PHX', count=14761),\n",
       " Row(ORIGIN='FCA', count=195),\n",
       " Row(ORIGIN='ABR', count=62),\n",
       " Row(ORIGIN='DVL', count=53),\n",
       " Row(ORIGIN='PWM', count=737),\n",
       " Row(ORIGIN='STL', count=5349),\n",
       " Row(ORIGIN='ABY', count=84),\n",
       " Row(ORIGIN='BET', count=70),\n",
       " Row(ORIGIN='DFW', count=23063),\n",
       " Row(ORIGIN='ABE', count=339),\n",
       " Row(ORIGIN='MHT', count=617),\n",
       " Row(ORIGIN='TXK', count=87),\n",
       " Row(ORIGIN='GSP', count=1194),\n",
       " Row(ORIGIN='LSE', count=152),\n",
       " Row(ORIGIN='MMH', count=93),\n",
       " Row(ORIGIN='STX', count=88),\n",
       " Row(ORIGIN='FAY', count=266),\n",
       " Row(ORIGIN='HDN', count=258),\n",
       " Row(ORIGIN='GUC', count=44),\n",
       " Row(ORIGIN='LBB', count=539),\n",
       " Row(ORIGIN='EKO', count=58),\n",
       " Row(ORIGIN='CRP', count=441),\n",
       " Row(ORIGIN='EGE', count=482),\n",
       " Row(ORIGIN='HVN', count=69),\n",
       " Row(ORIGIN='FSD', count=587),\n",
       " Row(ORIGIN='SWF', count=119),\n",
       " Row(ORIGIN='SUN', count=193),\n",
       " Row(ORIGIN='BQK', count=84),\n",
       " Row(ORIGIN='CSG', count=83),\n",
       " Row(ORIGIN='SFO', count=13689),\n",
       " Row(ORIGIN='MEM', count=1936),\n",
       " Row(ORIGIN='SAF', count=114),\n",
       " Row(ORIGIN='ELP', count=1335),\n",
       " Row(ORIGIN='BHM', count=1422),\n",
       " Row(ORIGIN='ATL', count=31155),\n",
       " Row(ORIGIN='FNT', count=280),\n",
       " Row(ORIGIN='FLL', count=8696),\n",
       " Row(ORIGIN='PIH', count=93),\n",
       " Row(ORIGIN='AZA', count=454),\n",
       " Row(ORIGIN='RIC', count=1932),\n",
       " Row(ORIGIN='LCK', count=41),\n",
       " Row(ORIGIN='PHF', count=117),\n",
       " Row(ORIGIN='DAY', count=1061),\n",
       " Row(ORIGIN='OMA', count=2038),\n",
       " Row(ORIGIN='SJT', count=134),\n",
       " Row(ORIGIN='LCH', count=169),\n",
       " Row(ORIGIN='STC', count=18),\n",
       " Row(ORIGIN='VPS', count=494),\n",
       " Row(ORIGIN='BPT', count=81),\n",
       " Row(ORIGIN='MHK', count=139),\n",
       " Row(ORIGIN='LIT', count=1035),\n",
       " Row(ORIGIN='CAE', count=625),\n",
       " Row(ORIGIN='FAT', count=976),\n",
       " Row(ORIGIN='ICT', count=814),\n",
       " Row(ORIGIN='ECP', count=451),\n",
       " Row(ORIGIN='ORD', count=26216),\n",
       " Row(ORIGIN='AVP', count=237),\n",
       " Row(ORIGIN='LBL', count=53),\n",
       " Row(ORIGIN='LBE', count=81),\n",
       " Row(ORIGIN='BTV', count=717),\n",
       " Row(ORIGIN='COU', count=186),\n",
       " Row(ORIGIN='MKG', count=62),\n",
       " Row(ORIGIN='AEX', count=255),\n",
       " Row(ORIGIN='SPS', count=88),\n",
       " Row(ORIGIN='BIL', count=263),\n",
       " Row(ORIGIN='ILM', count=548),\n",
       " Row(ORIGIN='SMX', count=17),\n",
       " Row(ORIGIN='PUB', count=80),\n",
       " Row(ORIGIN='PIA', count=367),\n",
       " Row(ORIGIN='GUM', count=72),\n",
       " Row(ORIGIN='RDU', count=4769),\n",
       " Row(ORIGIN='BQN', count=196),\n",
       " Row(ORIGIN='MFE', count=408),\n",
       " Row(ORIGIN='HIB', count=54),\n",
       " Row(ORIGIN='MKE', count=2495),\n",
       " Row(ORIGIN='SYR', count=1124),\n",
       " Row(ORIGIN='BLV', count=58),\n",
       " Row(ORIGIN='ISN', count=65),\n",
       " Row(ORIGIN='HSV', count=712),\n",
       " Row(ORIGIN='LFT', count=418),\n",
       " Row(ORIGIN='PIT', count=3970),\n",
       " Row(ORIGIN='TUS', count=1772),\n",
       " Row(ORIGIN='MTJ', count=212),\n",
       " Row(ORIGIN='ROW', count=109),\n",
       " Row(ORIGIN='ACY', count=298),\n",
       " Row(ORIGIN='AZO', count=147),\n",
       " Row(ORIGIN='MDW', count=6410),\n",
       " Row(ORIGIN='PLN', count=76),\n",
       " Row(ORIGIN='OAJ', count=262),\n",
       " Row(ORIGIN='COS', count=713),\n",
       " Row(ORIGIN='CKB', count=67),\n",
       " Row(ORIGIN='JNU', count=321),\n",
       " Row(ORIGIN='IND', count=3867),\n",
       " Row(ORIGIN='ALO', count=54),\n",
       " Row(ORIGIN='KOA', count=1196),\n",
       " Row(ORIGIN='EAU', count=62),\n",
       " Row(ORIGIN='GPT', count=361),\n",
       " Row(ORIGIN='MGM', count=295),\n",
       " Row(ORIGIN='OWB', count=9),\n",
       " Row(ORIGIN='DTW', count=12172),\n",
       " Row(ORIGIN='CHA', count=763),\n",
       " Row(ORIGIN='TYS', count=1350),\n",
       " Row(ORIGIN='HOU', count=4998),\n",
       " Row(ORIGIN='YUM', count=115),\n",
       " Row(ORIGIN='ADQ', count=53),\n",
       " Row(ORIGIN='MDT', count=499),\n",
       " Row(ORIGIN='ONT', count=1662),\n",
       " Row(ORIGIN='FWA', count=581),\n",
       " Row(ORIGIN='JAX', count=2701),\n",
       " Row(ORIGIN='STS', count=153),\n",
       " Row(ORIGIN='MSP', count=12180),\n",
       " Row(ORIGIN='MOT', count=143),\n",
       " Row(ORIGIN='LAX', count=17988),\n",
       " Row(ORIGIN='HTS', count=20),\n",
       " Row(ORIGIN='BGR', count=190),\n",
       " Row(ORIGIN='BTR', count=616),\n",
       " Row(ORIGIN='SIT', count=87),\n",
       " Row(ORIGIN='ROC', count=1111),\n",
       " Row(ORIGIN='MCO', count=12045),\n",
       " Row(ORIGIN='AGS', count=339),\n",
       " Row(ORIGIN='SGF', count=668),\n",
       " Row(ORIGIN='OTZ', count=62),\n",
       " Row(ORIGIN='SAN', count=7493),\n",
       " Row(ORIGIN='BZN', count=581),\n",
       " Row(ORIGIN='GGG', count=59),\n",
       " Row(ORIGIN='SHD', count=58),\n",
       " Row(ORIGIN='YAK', count=60),\n",
       " Row(ORIGIN='JFK', count=10485),\n",
       " Row(ORIGIN='SUX', count=116),\n",
       " Row(ORIGIN='ANC', count=1317),\n",
       " Row(ORIGIN='DAB', count=260),\n",
       " Row(ORIGIN='PAH', count=107),\n",
       " Row(ORIGIN='GNV', count=357),\n",
       " Row(ORIGIN='MSO', count=213),\n",
       " Row(ORIGIN='CYS', count=31),\n",
       " Row(ORIGIN='PHL', count=9087),\n",
       " Row(ORIGIN='OGG', count=2094),\n",
       " Row(ORIGIN='PGD', count=423),\n",
       " Row(ORIGIN='DSM', count=1358),\n",
       " Row(ORIGIN='SAT', count=3258),\n",
       " Row(ORIGIN='SLC', count=9339),\n",
       " Row(ORIGIN='STT', count=349),\n",
       " Row(ORIGIN='RAP', count=266),\n",
       " Row(ORIGIN='SBP', count=411),\n",
       " Row(ORIGIN='ASE', count=921)]"
      ]
     },
     "execution_count": 17,
     "metadata": {},
     "output_type": "execute_result"
    }
   ],
   "source": [
    "newFlights.groupBy(newFlights.ORIGIN).count().collect()"
   ]
  },
  {
   "cell_type": "code",
   "execution_count": 19,
   "metadata": {},
   "outputs": [
    {
     "name": "stdout",
     "output_type": "stream",
     "text": [
      "+----+-----+------------+-----------+-----------------+-----------------+---------------------+---------------------+------+----------------+---------------+-------------------+-------------------+----+---------------+------------+---------+--------+---------+---------+-------------+-------------+-------------------+\n",
      "|YEAR|MONTH|DAY_OF_MONTH|DAY_OF_WEEK|OP_UNIQUE_CARRIER|ORIGIN_AIRPORT_ID|ORIGIN_AIRPORT_SEQ_ID|ORIGIN_CITY_MARKET_ID|ORIGIN|ORIGIN_CITY_NAME|DEST_AIRPORT_ID|DEST_AIRPORT_SEQ_ID|DEST_CITY_MARKET_ID|DEST| DEST_CITY_NAME|CRS_DEP_TIME|DEP_DELAY|ARR_TIME|ARR_DELAY|CANCELLED|CARRIER_DELAY|WEATHER_DELAY|LATE_AIRCRAFT_DELAY|\n",
      "+----+-----+------------+-----------+-----------------+-----------------+---------------------+---------------------+------+----------------+---------------+-------------------+-------------------+----+---------------+------------+---------+--------+---------+---------+-------------+-------------+-------------------+\n",
      "|2019|    1|           1|          2|               AA|            11292|              1129202|                30325|   DEN|      Denver, CO|          12892|            1289208|              32575| LAX|Los Angeles, CA|        2025|     -4.0|    2124|    -41.0|      0.0|         null|         null|               null|\n",
      "|2019|    1|           2|          3|               AA|            11292|              1129202|                30325|   DEN|      Denver, CO|          12892|            1289208|              32575| LAX|Los Angeles, CA|        2025|     -5.0|    2206|      1.0|      0.0|         null|         null|               null|\n",
      "|2019|    1|           3|          4|               AA|            11292|              1129202|                30325|   DEN|      Denver, CO|          12892|            1289208|              32575| LAX|Los Angeles, CA|        2025|     -5.0|    2141|    -24.0|      0.0|         null|         null|               null|\n",
      "|2019|    1|           4|          5|               AA|            11292|              1129202|                30325|   DEN|      Denver, CO|          12892|            1289208|              32575| LAX|Los Angeles, CA|        2025|     -5.0|    2209|      4.0|      0.0|         null|         null|               null|\n",
      "|2019|    1|           5|          6|               AA|            11292|              1129202|                30325|   DEN|      Denver, CO|          12892|            1289208|              32575| LAX|Los Angeles, CA|        2025|     -4.0|    2229|     24.0|      0.0|          0.0|          0.0|                0.0|\n",
      "+----+-----+------------+-----------+-----------------+-----------------+---------------------+---------------------+------+----------------+---------------+-------------------+-------------------+----+---------------+------------+---------+--------+---------+---------+-------------+-------------+-------------------+\n",
      "only showing top 5 rows\n",
      "\n"
     ]
    }
   ],
   "source": [
    "newFlights.filter(newFlights.ORIGIN == 'DEN' ).show(5)"
   ]
  },
  {
   "cell_type": "markdown",
   "metadata": {},
   "source": [
    "## Doing Joins\n",
    "\n",
    "Again, everything boils down to a join in \"big data\". We can do joins between two dataframes much as in Pandas. Let's load a second dataframe that contains airline identifirs."
   ]
  },
  {
   "cell_type": "code",
   "execution_count": 20,
   "metadata": {},
   "outputs": [],
   "source": [
    "airlines = spark.read.load('unique-carriers.csv.gz',\n",
    "            format=\"csv\", sep=\",\", header=True,\n",
    "            compression=\"gzip\",\n",
    "            inferSchema=\"true\")"
   ]
  },
  {
   "cell_type": "code",
   "execution_count": 21,
   "metadata": {},
   "outputs": [
    {
     "name": "stdout",
     "output_type": "stream",
     "text": [
      "+----+--------------------+\n",
      "|Code|         Description|\n",
      "+----+--------------------+\n",
      "| 02Q|       Titan Airways|\n",
      "| 04Q|  Tradewind Aviation|\n",
      "| 05Q| Comlux Aviation, AG|\n",
      "| 06Q|Master Top Linhas...|\n",
      "| 07Q| Flair Airlines Ltd.|\n",
      "+----+--------------------+\n",
      "only showing top 5 rows\n",
      "\n"
     ]
    }
   ],
   "source": [
    "airlines.show(5)"
   ]
  },
  {
   "cell_type": "code",
   "execution_count": 22,
   "metadata": {},
   "outputs": [
    {
     "name": "stdout",
     "output_type": "stream",
     "text": [
      "+-----------------+\n",
      "|OP_UNIQUE_CARRIER|\n",
      "+-----------------+\n",
      "|               9E|\n",
      "|               9E|\n",
      "|               9E|\n",
      "|               9E|\n",
      "|               9E|\n",
      "+-----------------+\n",
      "only showing top 5 rows\n",
      "\n"
     ]
    }
   ],
   "source": [
    "flights.select('OP_UNIQUE_CARRIER').show(5)"
   ]
  },
  {
   "cell_type": "code",
   "execution_count": 23,
   "metadata": {},
   "outputs": [
    {
     "name": "stdout",
     "output_type": "stream",
     "text": [
      "+----+-----+------------+-----------+-----------------+-----------------+---------------------+---------------------+------+----------------+---------------+-------------------+-------------------+----+--------------+------------+---------+--------+---------+---------+-------------+-------------+-------------------+----+----+-----------------+\n",
      "|YEAR|MONTH|DAY_OF_MONTH|DAY_OF_WEEK|OP_UNIQUE_CARRIER|ORIGIN_AIRPORT_ID|ORIGIN_AIRPORT_SEQ_ID|ORIGIN_CITY_MARKET_ID|ORIGIN|ORIGIN_CITY_NAME|DEST_AIRPORT_ID|DEST_AIRPORT_SEQ_ID|DEST_CITY_MARKET_ID|DEST|DEST_CITY_NAME|CRS_DEP_TIME|DEP_DELAY|ARR_TIME|ARR_DELAY|CANCELLED|CARRIER_DELAY|WEATHER_DELAY|LATE_AIRCRAFT_DELAY|_c23|Code|      Description|\n",
      "+----+-----+------------+-----------+-----------------+-----------------+---------------------+---------------------+------+----------------+---------------+-------------------+-------------------+----+--------------+------------+---------+--------+---------+---------+-------------+-------------+-------------------+----+----+-----------------+\n",
      "|2019|    1|          19|          6|               9E|            13487|              1348702|                31650|   MSP| Minneapolis, MN|          11193|            1119302|              33105| CVG|Cincinnati, OH|        1556|    -10.0|    1832|    -25.0|      0.0|         null|         null|               null|null|  9E|Endeavor Air Inc.|\n",
      "|2019|    1|          20|          7|               9E|            13487|              1348702|                31650|   MSP| Minneapolis, MN|          11193|            1119302|              33105| CVG|Cincinnati, OH|        1556|     -4.0|    1825|    -37.0|      0.0|         null|         null|               null|null|  9E|Endeavor Air Inc.|\n",
      "|2019|    1|          21|          1|               9E|            13487|              1348702|                31650|   MSP| Minneapolis, MN|          11193|            1119302|              33105| CVG|Cincinnati, OH|        1556|     -9.0|    1845|    -17.0|      0.0|         null|         null|               null|null|  9E|Endeavor Air Inc.|\n",
      "|2019|    1|          22|          2|               9E|            13487|              1348702|                31650|   MSP| Minneapolis, MN|          11193|            1119302|              33105| CVG|Cincinnati, OH|        1556|     -4.0|    1839|    -23.0|      0.0|         null|         null|               null|null|  9E|Endeavor Air Inc.|\n",
      "|2019|    1|          23|          3|               9E|            13487|              1348702|                31650|   MSP| Minneapolis, MN|          11193|            1119302|              33105| CVG|Cincinnati, OH|        1556|     -6.0|    1850|    -12.0|      0.0|         null|         null|               null|null|  9E|Endeavor Air Inc.|\n",
      "+----+-----+------------+-----------+-----------------+-----------------+---------------------+---------------------+------+----------------+---------------+-------------------+-------------------+----+--------------+------------+---------+--------+---------+---------+-------------+-------------+-------------------+----+----+-----------------+\n",
      "only showing top 5 rows\n",
      "\n"
     ]
    }
   ],
   "source": [
    "flights.join(airlines, airlines.Code == flights.OP_UNIQUE_CARRIER).show(5)"
   ]
  },
  {
   "cell_type": "markdown",
   "metadata": {},
   "source": [
    "## Escape back into the world of RDD's"
   ]
  },
  {
   "cell_type": "markdown",
   "metadata": {},
   "source": [
    "A dataframe is composed of `Row` objects and a dataframe (and database) is just a collection of those rows. You can pull out the row objects as RDD's and then operate on those, much as we did before."
   ]
  },
  {
   "cell_type": "code",
   "execution_count": 24,
   "metadata": {},
   "outputs": [
    {
     "data": {
      "text/plain": [
       "[Row(YEAR=2019, MONTH=1, DAY_OF_MONTH=1, DAY_OF_WEEK=2, OP_UNIQUE_CARRIER='AA', ORIGIN_AIRPORT_ID=12892, ORIGIN_AIRPORT_SEQ_ID=1289208, ORIGIN_CITY_MARKET_ID=32575, ORIGIN='LAX', ORIGIN_CITY_NAME='Los Angeles, CA', DEST_AIRPORT_ID=11292, DEST_AIRPORT_SEQ_ID=1129202, DEST_CITY_MARKET_ID=30325, DEST='DEN', DEST_CITY_NAME='Denver, CO', CRS_DEP_TIME=1540, DEP_DELAY=-4.0, ARR_TIME=1915, ARR_DELAY=15.0, CANCELLED=0.0, CARRIER_DELAY=0.0, WEATHER_DELAY=0.0, LATE_AIRCRAFT_DELAY=0.0, _c23=None),\n",
       " Row(YEAR=2019, MONTH=1, DAY_OF_MONTH=2, DAY_OF_WEEK=3, OP_UNIQUE_CARRIER='AA', ORIGIN_AIRPORT_ID=12892, ORIGIN_AIRPORT_SEQ_ID=1289208, ORIGIN_CITY_MARKET_ID=32575, ORIGIN='LAX', ORIGIN_CITY_NAME='Los Angeles, CA', DEST_AIRPORT_ID=11292, DEST_AIRPORT_SEQ_ID=1129202, DEST_CITY_MARKET_ID=30325, DEST='DEN', DEST_CITY_NAME='Denver, CO', CRS_DEP_TIME=1540, DEP_DELAY=-3.0, ARR_TIME=1908, ARR_DELAY=8.0, CANCELLED=0.0, CARRIER_DELAY=None, WEATHER_DELAY=None, LATE_AIRCRAFT_DELAY=None, _c23=None),\n",
       " Row(YEAR=2019, MONTH=1, DAY_OF_MONTH=3, DAY_OF_WEEK=4, OP_UNIQUE_CARRIER='AA', ORIGIN_AIRPORT_ID=12892, ORIGIN_AIRPORT_SEQ_ID=1289208, ORIGIN_CITY_MARKET_ID=32575, ORIGIN='LAX', ORIGIN_CITY_NAME='Los Angeles, CA', DEST_AIRPORT_ID=11292, DEST_AIRPORT_SEQ_ID=1129202, DEST_CITY_MARKET_ID=30325, DEST='DEN', DEST_CITY_NAME='Denver, CO', CRS_DEP_TIME=1540, DEP_DELAY=-2.0, ARR_TIME=1904, ARR_DELAY=4.0, CANCELLED=0.0, CARRIER_DELAY=None, WEATHER_DELAY=None, LATE_AIRCRAFT_DELAY=None, _c23=None),\n",
       " Row(YEAR=2019, MONTH=1, DAY_OF_MONTH=4, DAY_OF_WEEK=5, OP_UNIQUE_CARRIER='AA', ORIGIN_AIRPORT_ID=12892, ORIGIN_AIRPORT_SEQ_ID=1289208, ORIGIN_CITY_MARKET_ID=32575, ORIGIN='LAX', ORIGIN_CITY_NAME='Los Angeles, CA', DEST_AIRPORT_ID=11292, DEST_AIRPORT_SEQ_ID=1129202, DEST_CITY_MARKET_ID=30325, DEST='DEN', DEST_CITY_NAME='Denver, CO', CRS_DEP_TIME=1540, DEP_DELAY=2.0, ARR_TIME=1855, ARR_DELAY=-5.0, CANCELLED=0.0, CARRIER_DELAY=None, WEATHER_DELAY=None, LATE_AIRCRAFT_DELAY=None, _c23=None),\n",
       " Row(YEAR=2019, MONTH=1, DAY_OF_MONTH=5, DAY_OF_WEEK=6, OP_UNIQUE_CARRIER='AA', ORIGIN_AIRPORT_ID=12892, ORIGIN_AIRPORT_SEQ_ID=1289208, ORIGIN_CITY_MARKET_ID=32575, ORIGIN='LAX', ORIGIN_CITY_NAME='Los Angeles, CA', DEST_AIRPORT_ID=11292, DEST_AIRPORT_SEQ_ID=1129202, DEST_CITY_MARKET_ID=30325, DEST='DEN', DEST_CITY_NAME='Denver, CO', CRS_DEP_TIME=1540, DEP_DELAY=22.0, ARR_TIME=1906, ARR_DELAY=6.0, CANCELLED=0.0, CARRIER_DELAY=None, WEATHER_DELAY=None, LATE_AIRCRAFT_DELAY=None, _c23=None)]"
      ]
     },
     "execution_count": 24,
     "metadata": {},
     "output_type": "execute_result"
    }
   ],
   "source": [
    "flights.rdd.filter(lambda x: x['DEST'] == 'DEN').take(5)"
   ]
  },
  {
   "cell_type": "code",
   "execution_count": 25,
   "metadata": {},
   "outputs": [
    {
     "ename": "ValueError",
     "evalue": "Some of types cannot be determined by the first 100 rows, please try again with sampling",
     "output_type": "error",
     "traceback": [
      "\u001b[0;31m---------------------------------------------------------------------------\u001b[0m",
      "\u001b[0;31mValueError\u001b[0m                                Traceback (most recent call last)",
      "\u001b[0;32m<ipython-input-25-f94d2722a01b>\u001b[0m in \u001b[0;36m<module>\u001b[0;34m\u001b[0m\n\u001b[0;32m----> 1\u001b[0;31m \u001b[0monlyDen\u001b[0m \u001b[0;34m=\u001b[0m \u001b[0mspark\u001b[0m\u001b[0;34m.\u001b[0m\u001b[0mcreateDataFrame\u001b[0m\u001b[0;34m(\u001b[0m\u001b[0mflights\u001b[0m\u001b[0;34m.\u001b[0m\u001b[0mrdd\u001b[0m\u001b[0;34m.\u001b[0m\u001b[0mfilter\u001b[0m\u001b[0;34m(\u001b[0m\u001b[0;32mlambda\u001b[0m \u001b[0mx\u001b[0m\u001b[0;34m:\u001b[0m \u001b[0mx\u001b[0m\u001b[0;34m[\u001b[0m\u001b[0;34m'DEST'\u001b[0m\u001b[0;34m]\u001b[0m \u001b[0;34m==\u001b[0m \u001b[0;34m'DEN'\u001b[0m\u001b[0;34m)\u001b[0m\u001b[0;34m)\u001b[0m\u001b[0;34m\u001b[0m\u001b[0;34m\u001b[0m\u001b[0m\n\u001b[0m",
      "\u001b[0;32m/usr/local/spark/python/pyspark/sql/session.py\u001b[0m in \u001b[0;36mcreateDataFrame\u001b[0;34m(self, data, schema, samplingRatio, verifySchema)\u001b[0m\n\u001b[1;32m    744\u001b[0m \u001b[0;34m\u001b[0m\u001b[0m\n\u001b[1;32m    745\u001b[0m         \u001b[0;32mif\u001b[0m \u001b[0misinstance\u001b[0m\u001b[0;34m(\u001b[0m\u001b[0mdata\u001b[0m\u001b[0;34m,\u001b[0m \u001b[0mRDD\u001b[0m\u001b[0;34m)\u001b[0m\u001b[0;34m:\u001b[0m\u001b[0;34m\u001b[0m\u001b[0;34m\u001b[0m\u001b[0m\n\u001b[0;32m--> 746\u001b[0;31m             \u001b[0mrdd\u001b[0m\u001b[0;34m,\u001b[0m \u001b[0mschema\u001b[0m \u001b[0;34m=\u001b[0m \u001b[0mself\u001b[0m\u001b[0;34m.\u001b[0m\u001b[0m_createFromRDD\u001b[0m\u001b[0;34m(\u001b[0m\u001b[0mdata\u001b[0m\u001b[0;34m.\u001b[0m\u001b[0mmap\u001b[0m\u001b[0;34m(\u001b[0m\u001b[0mprepare\u001b[0m\u001b[0;34m)\u001b[0m\u001b[0;34m,\u001b[0m \u001b[0mschema\u001b[0m\u001b[0;34m,\u001b[0m \u001b[0msamplingRatio\u001b[0m\u001b[0;34m)\u001b[0m\u001b[0;34m\u001b[0m\u001b[0;34m\u001b[0m\u001b[0m\n\u001b[0m\u001b[1;32m    747\u001b[0m         \u001b[0;32melse\u001b[0m\u001b[0;34m:\u001b[0m\u001b[0;34m\u001b[0m\u001b[0;34m\u001b[0m\u001b[0m\n\u001b[1;32m    748\u001b[0m             \u001b[0mrdd\u001b[0m\u001b[0;34m,\u001b[0m \u001b[0mschema\u001b[0m \u001b[0;34m=\u001b[0m \u001b[0mself\u001b[0m\u001b[0;34m.\u001b[0m\u001b[0m_createFromLocal\u001b[0m\u001b[0;34m(\u001b[0m\u001b[0mmap\u001b[0m\u001b[0;34m(\u001b[0m\u001b[0mprepare\u001b[0m\u001b[0;34m,\u001b[0m \u001b[0mdata\u001b[0m\u001b[0;34m)\u001b[0m\u001b[0;34m,\u001b[0m \u001b[0mschema\u001b[0m\u001b[0;34m)\u001b[0m\u001b[0;34m\u001b[0m\u001b[0;34m\u001b[0m\u001b[0m\n",
      "\u001b[0;32m/usr/local/spark/python/pyspark/sql/session.py\u001b[0m in \u001b[0;36m_createFromRDD\u001b[0;34m(self, rdd, schema, samplingRatio)\u001b[0m\n\u001b[1;32m    388\u001b[0m         \"\"\"\n\u001b[1;32m    389\u001b[0m         \u001b[0;32mif\u001b[0m \u001b[0mschema\u001b[0m \u001b[0;32mis\u001b[0m \u001b[0;32mNone\u001b[0m \u001b[0;32mor\u001b[0m \u001b[0misinstance\u001b[0m\u001b[0;34m(\u001b[0m\u001b[0mschema\u001b[0m\u001b[0;34m,\u001b[0m \u001b[0;34m(\u001b[0m\u001b[0mlist\u001b[0m\u001b[0;34m,\u001b[0m \u001b[0mtuple\u001b[0m\u001b[0;34m)\u001b[0m\u001b[0;34m)\u001b[0m\u001b[0;34m:\u001b[0m\u001b[0;34m\u001b[0m\u001b[0;34m\u001b[0m\u001b[0m\n\u001b[0;32m--> 390\u001b[0;31m             \u001b[0mstruct\u001b[0m \u001b[0;34m=\u001b[0m \u001b[0mself\u001b[0m\u001b[0;34m.\u001b[0m\u001b[0m_inferSchema\u001b[0m\u001b[0;34m(\u001b[0m\u001b[0mrdd\u001b[0m\u001b[0;34m,\u001b[0m \u001b[0msamplingRatio\u001b[0m\u001b[0;34m,\u001b[0m \u001b[0mnames\u001b[0m\u001b[0;34m=\u001b[0m\u001b[0mschema\u001b[0m\u001b[0;34m)\u001b[0m\u001b[0;34m\u001b[0m\u001b[0;34m\u001b[0m\u001b[0m\n\u001b[0m\u001b[1;32m    391\u001b[0m             \u001b[0mconverter\u001b[0m \u001b[0;34m=\u001b[0m \u001b[0m_create_converter\u001b[0m\u001b[0;34m(\u001b[0m\u001b[0mstruct\u001b[0m\u001b[0;34m)\u001b[0m\u001b[0;34m\u001b[0m\u001b[0;34m\u001b[0m\u001b[0m\n\u001b[1;32m    392\u001b[0m             \u001b[0mrdd\u001b[0m \u001b[0;34m=\u001b[0m \u001b[0mrdd\u001b[0m\u001b[0;34m.\u001b[0m\u001b[0mmap\u001b[0m\u001b[0;34m(\u001b[0m\u001b[0mconverter\u001b[0m\u001b[0;34m)\u001b[0m\u001b[0;34m\u001b[0m\u001b[0;34m\u001b[0m\u001b[0m\n",
      "\u001b[0;32m/usr/local/spark/python/pyspark/sql/session.py\u001b[0m in \u001b[0;36m_inferSchema\u001b[0;34m(self, rdd, samplingRatio, names)\u001b[0m\n\u001b[1;32m    375\u001b[0m                         \u001b[0;32mbreak\u001b[0m\u001b[0;34m\u001b[0m\u001b[0;34m\u001b[0m\u001b[0m\n\u001b[1;32m    376\u001b[0m                 \u001b[0;32melse\u001b[0m\u001b[0;34m:\u001b[0m\u001b[0;34m\u001b[0m\u001b[0;34m\u001b[0m\u001b[0m\n\u001b[0;32m--> 377\u001b[0;31m                     raise ValueError(\"Some of types cannot be determined by the \"\n\u001b[0m\u001b[1;32m    378\u001b[0m                                      \"first 100 rows, please try again with sampling\")\n\u001b[1;32m    379\u001b[0m         \u001b[0;32melse\u001b[0m\u001b[0;34m:\u001b[0m\u001b[0;34m\u001b[0m\u001b[0;34m\u001b[0m\u001b[0m\n",
      "\u001b[0;31mValueError\u001b[0m: Some of types cannot be determined by the first 100 rows, please try again with sampling"
     ]
    }
   ],
   "source": [
    "onlyDen = spark.createDataFrame(flights.rdd.filter(lambda x: x['DEST'] == 'DEN'))"
   ]
  },
  {
   "cell_type": "code",
   "execution_count": 26,
   "metadata": {},
   "outputs": [],
   "source": [
    "onlyDen = spark.createDataFrame(flights.rdd.filter(lambda x: x['DEST'] == 'DEN'), \n",
    "                                samplingRatio=0.5)"
   ]
  },
  {
   "cell_type": "markdown",
   "metadata": {},
   "source": [
    "## Using SQL"
   ]
  },
  {
   "cell_type": "code",
   "execution_count": 27,
   "metadata": {},
   "outputs": [],
   "source": [
    "from pyspark.sql import SQLContext\n",
    "\n",
    "sqlContext = SQLContext( spark.sparkContext )"
   ]
  },
  {
   "cell_type": "code",
   "execution_count": 28,
   "metadata": {},
   "outputs": [],
   "source": [
    "sqlContext.registerDataFrameAsTable(onlyDen, \"onlyDen\")"
   ]
  },
  {
   "cell_type": "code",
   "execution_count": 29,
   "metadata": {},
   "outputs": [],
   "source": [
    "sqlContext.registerDataFrameAsTable(flights, \"flights\")"
   ]
  },
  {
   "cell_type": "code",
   "execution_count": 30,
   "metadata": {},
   "outputs": [
    {
     "name": "stdout",
     "output_type": "stream",
     "text": [
      "+--------+\n",
      "|count(1)|\n",
      "+--------+\n",
      "|   18498|\n",
      "+--------+\n",
      "\n"
     ]
    }
   ],
   "source": [
    "sqlContext.sql(\"SELECT COUNT(*) from onlyDEN\").show(5)"
   ]
  },
  {
   "cell_type": "code",
   "execution_count": 31,
   "metadata": {},
   "outputs": [
    {
     "name": "stdout",
     "output_type": "stream",
     "text": [
      "+--------+\n",
      "|count(1)|\n",
      "+--------+\n",
      "|   18498|\n",
      "+--------+\n",
      "\n"
     ]
    }
   ],
   "source": [
    "sqlContext.sql(\"SELECT COUNT(*) from flights WHERE DEST='DEN'\").show(5)"
   ]
  },
  {
   "cell_type": "code",
   "execution_count": null,
   "metadata": {},
   "outputs": [],
   "source": []
  }
 ],
 "metadata": {
  "kernelspec": {
   "display_name": "Python 3",
   "language": "python",
   "name": "python3"
  },
  "language_info": {
   "codemirror_mode": {
    "name": "ipython",
    "version": 3
   },
   "file_extension": ".py",
   "mimetype": "text/x-python",
   "name": "python",
   "nbconvert_exporter": "python",
   "pygments_lexer": "ipython3",
   "version": "3.6.7"
  }
 },
 "nbformat": 4,
 "nbformat_minor": 2
}
